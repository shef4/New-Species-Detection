{
 "cells": [
  {
   "cell_type": "code",
   "execution_count": null,
   "metadata": {},
   "outputs": [],
   "source": [
    "pip install librosa"
   ]
  },
  {
   "cell_type": "code",
   "execution_count": null,
   "metadata": {},
   "outputs": [],
   "source": [
    "import tensorflow as tf\n",
    "import IPython.display as ipd\n",
    "import librosa"
   ]
  },
  {
   "cell_type": "code",
   "execution_count": null,
   "metadata": {},
   "outputs": [],
   "source": [
    "#importing files as from wav\n",
    "data, sampling_rate = librosa.load('S4A04095_20190302_103255.wav')"
   ]
  },
  {
   "cell_type": "code",
   "execution_count": null,
   "metadata": {},
   "outputs": [],
   "source": [
    "import os\n",
    "import pandas as pd\n",
    "import librosa\n",
    "import librosa.display\n",
    "import glob \n",
    "import matplotlib.pyplot as plt\n",
    "\n",
    "plt.figure(figsize=(12, 4))\n",
    "librosa.display.waveplot(data, sr=sampling_rate)"
   ]
  },
  {
   "cell_type": "code",
   "execution_count": null,
   "metadata": {},
   "outputs": [],
   "source": [
    "pip install pydub"
   ]
  },
  {
   "cell_type": "code",
   "execution_count": null,
   "metadata": {},
   "outputs": [],
   "source": [
    "#importing wavfile \n",
    "from pydub import AudioSegment \n",
    "\n",
    "wav_file = AudioSegment.from_file(file=\"data/train/forrest_noise001.wav\", format=\"wav\")\n",
    "wav_file = wav_file.set_channels(1)\n",
    "wav_file.export(\"data/train/mono/forrest_noise001m.wav\",format=\"wav\")"
   ]
  },
  {
   "cell_type": "code",
   "execution_count": null,
   "metadata": {},
   "outputs": [],
   "source": [
    "#import wa file for spectrogram\n",
    "import matplotlib.pyplot as plt\n",
    "from scipy import signal\n",
    "from scipy.io import wavfile\n"
   ]
  },
  {
   "cell_type": "code",
   "execution_count": null,
   "metadata": {},
   "outputs": [],
   "source": [
    "sample_rate, samples = wavfile.read('data/train/mono/forrest_noise001m.wav')\n"
   ]
  },
  {
   "cell_type": "code",
   "execution_count": null,
   "metadata": {},
   "outputs": [],
   "source": [
    "frequencies, times, spectrogram = signal.spectrogram(samples, sample_rate)"
   ]
  },
  {
   "cell_type": "code",
   "execution_count": null,
   "metadata": {},
   "outputs": [],
   "source": [
    "plt.pcolormesh(times, frequencies, spectrogram)\n",
    "plt.imshow(spectrogram)"
   ]
  },
  {
   "cell_type": "code",
   "execution_count": null,
   "metadata": {
    "scrolled": true
   },
   "outputs": [],
   "source": [
    "\n",
    "plt.pcolormesh(times, frequencies, spectrogram)\n",
    "plt.imshow(spectrogram)\n",
    "plt.ylabel('Frequency [Hz]')\n",
    "plt.xlabel('Time [sec]')\n",
    "plt.show()"
   ]
  },
  {
   "cell_type": "code",
   "execution_count": null,
   "metadata": {},
   "outputs": [],
   "source": [
    "import os\n",
    "import matplotlib.pyplot as plt\n",
    "\n",
    "#for loading and visualizing audio files\n",
    "import librosa\n",
    "import librosa.display\n",
    "\n",
    "#to play audio\n",
    "import IPython.display as ipd\n",
    "\n",
    "#set path and view data\n",
    "audio_fpath = \"data/train/mono/\"\n",
    "audio_clips = os.listdir(audio_fpath)\n",
    "print(\"No. of .wav files in audio folder = \",len(audio_clips))"
   ]
  },
  {
   "cell_type": "code",
   "execution_count": null,
   "metadata": {},
   "outputs": [],
   "source": [
    "#load audio data\n",
    "x, sr = librosa.load(audio_fpath+audio_clips[0], sr=44100)\n",
    "\n",
    "print(type(x), type(sr))\n",
    "print(x.shape, sr)"
   ]
  },
  {
   "cell_type": "code",
   "execution_count": null,
   "metadata": {},
   "outputs": [],
   "source": [
    "#view waveform\n",
    "plt.figure(figsize=(14, 5))\n",
    "librosa.display.waveplot(x[0:1000], sr=sr)"
   ]
  },
  {
   "cell_type": "code",
   "execution_count": null,
   "metadata": {},
   "outputs": [],
   "source": [
    "#view spectrogram\n",
    "X = librosa.stft(x[0:100000])\n",
    "Xdb = librosa.amplitude_to_db(abs(X))\n",
    "plt.figure(figsize=(14, 5))\n",
    "librosa.display.specshow(Xdb, sr=sr, x_axis='time', y_axis='hz')\n",
    "plt.colorbar()"
   ]
  },
  {
   "cell_type": "code",
   "execution_count": null,
   "metadata": {
    "scrolled": true
   },
   "outputs": [],
   "source": [
    "#view log spectrogram\n",
    "plt.figure(figsize=(14, 5))\n",
    "librosa.display.specshow(Xdb, sr=sr, x_axis='time', y_axis='log')\n",
    "plt.colorbar()"
   ]
  },
  {
   "cell_type": "code",
   "execution_count": null,
   "metadata": {},
   "outputs": [],
   "source": [
    "audio_fpath = \"data/train/mono/\"\n",
    "def specGen(audio_fpath):\n",
    "    audio_clips = os.listdir(audio_fpath)\n",
    "    for i in range(0, len(audio_clips)):\n",
    "        \n",
    "        x, sr = librosa.load(audio_fpath+audio_clips[i], sr=44100)\n",
    "        \n",
    "        X = librosa.stft(x[0:100000])\n",
    "        Xdb = librosa.amplitude_to_db(abs(X))\n",
    "        \n",
    "        fig = plt.Figure()\n",
    "        canvas = FigureCanvas(fig)\n",
    "        ax = fig.add_subplot(111)\n",
    "        plt.figure(figsize=(14, 5))\n",
    "        librosa.display.specshow(Xdb, sr=sr, x_axis='time', y_axis='log')\n",
    "        plt.colorbar()\n",
    "        p = librosa.display.specshow(librosa.amplitude_to_db(out, ref=np.max), ax=ax, y_axis='log', x_axis='time')\n",
    "        fig.savefig('spec.png')\n",
    "        \n",
    "        "
   ]
  },
  {
   "cell_type": "code",
   "execution_count": null,
   "metadata": {},
   "outputs": [],
   "source": [
    "        fig = plt.Figure()\n",
    "        canvas = FigureCanvas(fig)\n",
    "        ax = fig.add_subplot(111)\n",
    "        \n",
    "        plt.figure(figsize=(14, 5))\n",
    "        librosa.display.specshow(Xdb, ax=ax, x_axis='time', y_axis='log')\n",
    "        plt.colorbar()\n",
    "        \n",
    "        p = librosa.display.specshow(librosa.amplitude_to_db(out, ref=np.max), ax=ax, y_axis='log', x_axis='time')\n",
    "        fig.savefig('spec.png')"
   ]
  },
  {
   "cell_type": "code",
   "execution_count": 1,
   "metadata": {},
   "outputs": [
    {
     "name": "stderr",
     "output_type": "stream",
     "text": [
      "C:\\Users\\sefun\\anaconda3\\lib\\site-packages\\pydub\\utils.py:170: RuntimeWarning: Couldn't find ffmpeg or avconv - defaulting to ffmpeg, but may not work\n",
      "  warn(\"Couldn't find ffmpeg or avconv - defaulting to ffmpeg, but may not work\", RuntimeWarning)\n"
     ]
    }
   ],
   "source": [
    "#importing wavfile \n",
    "from pydub import AudioSegment \n",
    "import os\n",
    "\n",
    "\n",
    "def monochannelfiles(audio_fpath):\n",
    "    audio_clips = os.listdir(audio_fpath)\n",
    "    for i in range(0, len(audio_clips)):     \n",
    "        wav_file = AudioSegment.from_file(file=str(audio_fpath+audio_clips[i]), format=\"wav\")\n",
    "        wav_file = wav_file.set_channels(1)\n",
    "        wav_file.export(\"data/train/mono/monoRainForrestAudio\"+str(i)+\".wav\",format=\"wav\")\n",
    "        \n",
    "audio_fpath = \"data/train/stereo/\"\n",
    "monochannelfiles(audio_fpath)\n"
   ]
  },
  {
   "cell_type": "code",
   "execution_count": 10,
   "metadata": {},
   "outputs": [],
   "source": [
    "from matplotlib.backends.backend_agg import FigureCanvasAgg as FigureCanvas\n",
    "import numpy as np \n",
    "import os\n",
    "import matplotlib.pyplot as plt\n",
    "#for loading and visualizing audio files\n",
    "import librosa\n",
    "import librosa.display\n",
    "\n",
    "def specGen(audio_fpath):\n",
    "    audio_clips = os.listdir(audio_fpath)\n",
    "    for i in range(0, len(audio_clips)-1):\n",
    "        \n",
    "        x, sr = librosa.load(audio_fpath+\"monoRainForrestAudio\"+str(i)+\".wav\", sr=44100)       \n",
    "        x = x[:100000]\n",
    "        window_size = 1024\n",
    "        window = np.hanning(window_size)\n",
    "        stft  = librosa.core.spectrum.stft(x, n_fft=window_size, hop_length=512, window=window)\n",
    "        out = 2 * np.abs(stft) / np.sum(window)\n",
    "\n",
    "        fig = plt.Figure()\n",
    "        canvas = FigureCanvas(fig)\n",
    "        ax = fig.add_subplot(111)\n",
    "        librosa.display.specshow(librosa.amplitude_to_db(out), ax=ax, y_axis='log', x_axis='time')\n",
    "        plt.colorbar\n",
    "        fig.savefig('LFspectrogram_'+str(i)+'.png')\n",
    "        \n",
    "        \n",
    "audio_fpath = \"data/train/mono/\"\n",
    "specGen(audio_fpath)"
   ]
  },
  {
   "cell_type": "code",
   "execution_count": 9,
   "metadata": {},
   "outputs": [
    {
     "data": {
      "text/plain": [
       "\"X = librosa.stft(x[0:100000])\\nXdb = librosa.amplitude_to_db(abs(X))\\n\\nfig = plt.Figure()\\ncanvas = FigureCanvas(fig)\\nax = fig.add_subplot(111)\\n        \\nplt.figure(figsize=(14, 5))\\nplt.colorbar()\\n\\n#Xdb should be based on audio_clips\\np = librosa.display.specshow(librosa.amplitude_to_db(Xdb, ref=np.max),sr=sr, x_axis='time', y_axis='log')\\n        \\n        \\nfig.savefig('LFspectrogram_0.png')\""
      ]
     },
     "execution_count": 9,
     "metadata": {},
     "output_type": "execute_result"
    }
   ],
   "source": [
    "from matplotlib.backends.backend_agg import FigureCanvasAgg as FigureCanvas\n",
    "import numpy as np \n",
    "import os\n",
    "import matplotlib.pyplot as plt\n",
    "#for loading and visualizing audio files\n",
    "import librosa\n",
    "import librosa.display\n",
    "\n",
    "\n",
    "x, sr = librosa.load(\"data/train/mono/monoRainForrestAudio0.wav\", sr=44100)\n",
    "\n",
    "x = x[:100000]\n",
    "window_size = 1024\n",
    "window = np.hanning(window_size)\n",
    "stft  = librosa.core.spectrum.stft(x, n_fft=window_size, hop_length=512, window=window)\n",
    "out = 2 * np.abs(stft) / np.sum(window)\n",
    "\n",
    "fig = plt.Figure()\n",
    "canvas = FigureCanvas(fig)\n",
    "ax = fig.add_subplot(111)\n",
    "librosa.display.specshow(librosa.amplitude_to_db(out), ax=ax, y_axis='log', x_axis='time')\n",
    "plt.colorbar\n",
    "fig.savefig('spec2.png')\n",
    "\n",
    "'''X = librosa.stft(x[0:100000])\n",
    "Xdb = librosa.amplitude_to_db(abs(X))\n",
    "\n",
    "fig = plt.Figure()\n",
    "canvas = FigureCanvas(fig)\n",
    "ax = fig.add_subplot(111)\n",
    "        \n",
    "plt.figure(figsize=(14, 5))\n",
    "plt.colorbar()\n",
    "\n",
    "#Xdb should be based on audio_clips\n",
    "p = librosa.display.specshow(librosa.amplitude_to_db(Xdb, ref=np.max),sr=sr, x_axis='time', y_axis='log')\n",
    "        \n",
    "        \n",
    "fig.savefig('LFspectrogram_0.png')'''"
   ]
  },
  {
   "cell_type": "code",
   "execution_count": null,
   "metadata": {},
   "outputs": [],
   "source": []
  }
 ],
 "metadata": {
  "kernelspec": {
   "display_name": "Python 3",
   "language": "python",
   "name": "python3"
  },
  "language_info": {
   "codemirror_mode": {
    "name": "ipython",
    "version": 3
   },
   "file_extension": ".py",
   "mimetype": "text/x-python",
   "name": "python",
   "nbconvert_exporter": "python",
   "pygments_lexer": "ipython3",
   "version": "3.7.6"
  }
 },
 "nbformat": 4,
 "nbformat_minor": 4
}
